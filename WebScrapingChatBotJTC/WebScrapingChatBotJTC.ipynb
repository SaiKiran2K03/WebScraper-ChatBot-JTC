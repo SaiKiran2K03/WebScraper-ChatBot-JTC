{
 "cells": [
  {
   "cell_type": "code",
   "execution_count": null,
   "metadata": {},
   "outputs": [],
   "source": [
    "!pip install requests\n",
    "!pip install beautifulsoup4\n",
    "!pip install lxml\n"
   ]
  },
  {
   "cell_type": "code",
   "execution_count": null,
   "metadata": {},
   "outputs": [],
   "source": [
    "import requests\n",
    "from bs4 import BeautifulSoup\n",
    "from bs4.element import Comment\n",
    "from urllib.parse import urljoin, urlparse\n",
    "from collections import deque\n",
    "import re\n",
    "\n",
    "def is_valid_url(url):\n",
    "    parsed = urlparse(url)\n",
    "    return bool(parsed.netloc) and bool(parsed.scheme)\n",
    "\n",
    "def get_all_website_links(url):\n",
    "    urls = set()\n",
    "    domain_name = urlparse(url).netloc\n",
    "    soup = BeautifulSoup(requests.get(url).content, \"html.parser\")\n",
    "    for a_tag in soup.findAll(\"a\"):\n",
    "        href = a_tag.attrs.get(\"href\")\n",
    "        if href == \"\" or href is None:\n",
    "            continue\n",
    "        href = urljoin(url, href)\n",
    "        parsed_href = urlparse(href)\n",
    "        href = parsed_href.scheme + \"://\" + parsed_href.netloc + parsed_href.path\n",
    "        if not is_valid_url(href) or domain_name not in href:\n",
    "            continue\n",
    "        urls.add(href)\n",
    "    return urls\n",
    "\n",
    "def extract_text_from_url(url):\n",
    "    soup = BeautifulSoup(requests.get(url).content, \"html.parser\")\n",
    "    texts = soup.findAll(text=True)\n",
    "    visible_texts = filter(tag_visible, texts)\n",
    "    return u\" \".join(t.strip() for t in visible_texts)\n",
    "\n",
    "def tag_visible(element):\n",
    "    if element.parent.name in ['style', 'script', 'head', 'title', 'meta', '[document]']:\n",
    "        return False\n",
    "    if isinstance(element, Comment):\n",
    "        return False\n",
    "    return True\n",
    "\n",
    "def crawl_and_extract(starting_url, max_links=100):\n",
    "    visited = set()\n",
    "    queue = deque([starting_url])\n",
    "    word_file = open(\"website_words.txt\", \"w\", encoding=\"utf-8\")\n",
    "\n",
    "    while queue and len(visited) < max_links:\n",
    "        url = queue.popleft()\n",
    "        if url not in visited:\n",
    "            visited.add(url)\n",
    "            try:\n",
    "                text = extract_text_from_url(url)\n",
    "                word_file.write(text + \"\\n\")\n",
    "                for link in get_all_website_links(url):\n",
    "                    if link not in visited:\n",
    "                        queue.append(link)\n",
    "            except Exception as e:\n",
    "                print(f\"Failed to process {url}: {e}\")\n",
    "\n",
    "    word_file.close()\n",
    "\n",
    "crawl_and_extract(\"https://www.joshtechnologygroup.com/\", max_links=100)\n"
   ]
  },
  {
   "cell_type": "code",
   "execution_count": null,
   "metadata": {},
   "outputs": [],
   "source": [
    "!pip install nltk\n",
    "import nltk\n",
    "nltk.download('punkt')"
   ]
  },
  {
   "cell_type": "code",
   "execution_count": null,
   "metadata": {},
   "outputs": [],
   "source": [
    "import pandas as pd\n",
    "\n",
    "with open('website_words.txt', 'r', encoding='utf-8') as file:\n",
    "    text_data = file.read()\n",
    "\n",
    "tokens = text_data.split()\n",
    "\n",
    "tokens_df = pd.DataFrame(tokens, columns=['Tokens'])\n",
    "\n",
    "tokens_df.head(10)\n"
   ]
  },
  {
   "cell_type": "code",
   "execution_count": null,
   "metadata": {},
   "outputs": [],
   "source": [
    "import pandas as pd\n",
    "import string\n",
    "from nltk import ngrams\n",
    "\n",
    "tokens = tokens_df['Tokens']\n",
    "\n",
    "def clean_token(token):\n",
    "    token = token.lower()\n",
    "    token = token.strip()\n",
    "    return token\n",
    "\n",
    "cleaned_tokens = [clean_token(token) for token in tokens if token not in string.punctuation]\n",
    "\n",
    "stopwords = set(['i', 'me', 'my', 'myself', 'we', 'our', 'ours', 'ourselves', 'you', 'your', 'yours', 'yourself', 'yourselves',\n",
    "                  'he', 'him', 'his', 'himself', 'she', 'her', 'hers', 'herself', 'it', 'its', 'itself', 'they', 'them',\n",
    "                  'their', 'theirs', 'themselves', 'what', 'which', 'who', 'whom', 'this', 'that', 'these', 'those',\n",
    "                  'am', 'is', 'are', 'was', 'were', 'be', 'been', 'being', 'have', 'has', 'had', 'having', 'do', 'does',\n",
    "                  'did', 'doing', 'a', 'an', 'the', 'and', 'but', 'if', 'or', 'because', 'as', 'until', 'while', 'of',\n",
    "                  'at', 'by', 'for', 'with', 'about', 'against', 'between', 'into', 'through', 'during', 'before',\n",
    "                  'after', 'above', 'below', 'to', 'from', 'up', 'down', 'in', 'out', 'on', 'off', 'over', 'under',\n",
    "                  'again', 'further', 'then', 'once', 'here', 'there', 'when', 'where', 'why', 'how', 'all', 'any',\n",
    "                  'both', 'each', 'few', 'more', 'most', 'other', 'some', 'such', 'no', 'nor', 'not', 'only', 'own',\n",
    "                  'same', 'so', 'than', 'too', 'very', 's', 't', 'can', 'will', 'just', 'don', 'should', 'now'])\n",
    "\n",
    "cleaned_tokens = [token for token in cleaned_tokens if token not in stopwords]\n",
    "\n",
    "n = 2\n",
    "ngram_list = list(ngrams(cleaned_tokens, n))\n",
    "\n",
    "with open('cleaned_website_words.txt', 'w', encoding='utf-8') as f:\n",
    "    for token in cleaned_tokens:\n",
    "        f.write(token + \"\\n\")\n",
    "\n",
    "with open('ngrams.txt', 'w', encoding='utf-8') as f:\n",
    "    for ngram in ngram_list:\n",
    "        f.write(' '.join(ngram) + \"\\n\")\n"
   ]
  },
  {
   "cell_type": "code",
   "execution_count": null,
   "metadata": {},
   "outputs": [],
   "source": [
    "!pip install langchain"
   ]
  },
  {
   "cell_type": "code",
   "execution_count": null,
   "metadata": {},
   "outputs": [],
   "source": [
    "from langchain.document_loaders import TextLoader\n",
    "from langchain.indexes import VectorstoreIndexCreator\n",
    "import sys\n",
    "import os\n",
    "\n",
    "os.environ[\"OPENAI_API_KEY\"]=\"YOUR KEY HERE\"\n",
    "data=TextLoader(\"ngrams.txt\")\n",
    "prompt=sys.argv[1]\n",
    "index=VectorstoreIndexCreator().from_loaders([data])\n",
    "response=index.query(prompt)\n",
    "print(response)"
   ]
  }
 ],
 "metadata": {
  "kernelspec": {
   "display_name": "Python 3",
   "language": "python",
   "name": "python3"
  },
  "language_info": {
   "codemirror_mode": {
    "name": "ipython",
    "version": 3
   },
   "file_extension": ".py",
   "mimetype": "text/x-python",
   "name": "python",
   "nbconvert_exporter": "python",
   "pygments_lexer": "ipython3",
   "version": "3.11.2"
  }
 },
 "nbformat": 4,
 "nbformat_minor": 2
}
